{
 "cells": [
  {
   "cell_type": "code",
   "execution_count": 29,
   "metadata": {},
   "outputs": [],
   "source": [
    "import requests\n",
    "import defs\n",
    "import pandas as pd"
   ]
  },
  {
   "cell_type": "code",
   "execution_count": 30,
   "metadata": {},
   "outputs": [],
   "source": [
    "session = requests.Session()"
   ]
  },
  {
   "cell_type": "code",
   "execution_count": 31,
   "metadata": {},
   "outputs": [],
   "source": [
    "instrument = \"EUR_USD\"\n",
    "count = 10\n",
    "granularity = \"H1\""
   ]
  },
  {
   "cell_type": "code",
   "execution_count": 32,
   "metadata": {},
   "outputs": [],
   "source": [
    "params = dict(\n",
    "    count = count,\n",
    "    granularity = granularity,\n",
    "    price  = \"MBA\"\n",
    ")"
   ]
  },
  {
   "cell_type": "code",
   "execution_count": 33,
   "metadata": {},
   "outputs": [],
   "source": [
    "url = f\"{defs.OANDA_URL}/instruments/{instrument}/candles\""
   ]
  },
  {
   "cell_type": "code",
   "execution_count": 35,
   "metadata": {},
   "outputs": [],
   "source": [
    "response = session.get(url, params=params, headers=defs.SECURE_HEADER)"
   ]
  },
  {
   "cell_type": "code",
   "execution_count": 36,
   "metadata": {},
   "outputs": [],
   "source": [
    "data_returned = response.json()"
   ]
  },
  {
   "cell_type": "code",
   "execution_count": 37,
   "metadata": {},
   "outputs": [
    {
     "data": {
      "text/plain": [
       "10"
      ]
     },
     "execution_count": 37,
     "metadata": {},
     "output_type": "execute_result"
    }
   ],
   "source": [
    "len(data_returned['candles'])"
   ]
  },
  {
   "cell_type": "code",
   "execution_count": 43,
   "metadata": {},
   "outputs": [],
   "source": [
    "our_data = []\n",
    "prices = ['bid', 'mid', 'ask']\n",
    "ohlc = ['o', 'h', 'l', 'c']\n",
    "\n",
    "for candle in data_returned['candles']:\n",
    "    if candle['complete'] == False:\n",
    "        continue\n",
    "    new_obj = {}\n",
    "    new_obj['time'] = candle['time']\n",
    "    new_obj['volume'] = candle['volume']\n",
    "    for price in prices:\n",
    "        for point in ohlc:\n",
    "            new_obj[f'{price}_{point}'] = candle[price][point]\n",
    "    our_data.append(new_obj)"
   ]
  },
  {
   "cell_type": "code",
   "execution_count": 39,
   "metadata": {},
   "outputs": [],
   "source": [
    "our_data_df = pd.DataFrame.from_dict(our_data)"
   ]
  },
  {
   "cell_type": "code",
   "execution_count": 40,
   "metadata": {},
   "outputs": [],
   "source": [
    "our_data_df.to_pickle('our_data.pkl')"
   ]
  },
  {
   "cell_type": "code",
   "execution_count": 41,
   "metadata": {},
   "outputs": [
    {
     "data": {
      "text/html": [
       "<div>\n",
       "<style scoped>\n",
       "    .dataframe tbody tr th:only-of-type {\n",
       "        vertical-align: middle;\n",
       "    }\n",
       "\n",
       "    .dataframe tbody tr th {\n",
       "        vertical-align: top;\n",
       "    }\n",
       "\n",
       "    .dataframe thead th {\n",
       "        text-align: right;\n",
       "    }\n",
       "</style>\n",
       "<table border=\"1\" class=\"dataframe\">\n",
       "  <thead>\n",
       "    <tr style=\"text-align: right;\">\n",
       "      <th></th>\n",
       "      <th>time</th>\n",
       "      <th>volume</th>\n",
       "      <th>bid_o</th>\n",
       "      <th>bid_h</th>\n",
       "      <th>bid_l</th>\n",
       "      <th>bid_c</th>\n",
       "      <th>mid_o</th>\n",
       "      <th>mid_h</th>\n",
       "      <th>mid_l</th>\n",
       "      <th>mid_c</th>\n",
       "      <th>ask_o</th>\n",
       "      <th>ask_h</th>\n",
       "      <th>ask_l</th>\n",
       "      <th>ask_c</th>\n",
       "    </tr>\n",
       "  </thead>\n",
       "  <tbody>\n",
       "    <tr>\n",
       "      <th>0</th>\n",
       "      <td>2023-05-07T22:00:00.000000000Z</td>\n",
       "      <td>980</td>\n",
       "      <td>1.10182</td>\n",
       "      <td>1.10217</td>\n",
       "      <td>1.10136</td>\n",
       "      <td>1.10157</td>\n",
       "      <td>1.10220</td>\n",
       "      <td>1.10230</td>\n",
       "      <td>1.10144</td>\n",
       "      <td>1.10166</td>\n",
       "      <td>1.10259</td>\n",
       "      <td>1.10259</td>\n",
       "      <td>1.10153</td>\n",
       "      <td>1.10174</td>\n",
       "    </tr>\n",
       "    <tr>\n",
       "      <th>1</th>\n",
       "      <td>2023-05-07T23:00:00.000000000Z</td>\n",
       "      <td>1108</td>\n",
       "      <td>1.10156</td>\n",
       "      <td>1.10211</td>\n",
       "      <td>1.10134</td>\n",
       "      <td>1.10177</td>\n",
       "      <td>1.10164</td>\n",
       "      <td>1.10219</td>\n",
       "      <td>1.10142</td>\n",
       "      <td>1.10184</td>\n",
       "      <td>1.10172</td>\n",
       "      <td>1.10227</td>\n",
       "      <td>1.10150</td>\n",
       "      <td>1.10191</td>\n",
       "    </tr>\n",
       "    <tr>\n",
       "      <th>2</th>\n",
       "      <td>2023-05-08T00:00:00.000000000Z</td>\n",
       "      <td>2263</td>\n",
       "      <td>1.10178</td>\n",
       "      <td>1.10247</td>\n",
       "      <td>1.10161</td>\n",
       "      <td>1.10236</td>\n",
       "      <td>1.10185</td>\n",
       "      <td>1.10254</td>\n",
       "      <td>1.10168</td>\n",
       "      <td>1.10244</td>\n",
       "      <td>1.10192</td>\n",
       "      <td>1.10262</td>\n",
       "      <td>1.10175</td>\n",
       "      <td>1.10251</td>\n",
       "    </tr>\n",
       "    <tr>\n",
       "      <th>3</th>\n",
       "      <td>2023-05-08T01:00:00.000000000Z</td>\n",
       "      <td>2503</td>\n",
       "      <td>1.10236</td>\n",
       "      <td>1.10314</td>\n",
       "      <td>1.10180</td>\n",
       "      <td>1.10306</td>\n",
       "      <td>1.10244</td>\n",
       "      <td>1.10322</td>\n",
       "      <td>1.10187</td>\n",
       "      <td>1.10314</td>\n",
       "      <td>1.10253</td>\n",
       "      <td>1.10330</td>\n",
       "      <td>1.10194</td>\n",
       "      <td>1.10322</td>\n",
       "    </tr>\n",
       "    <tr>\n",
       "      <th>4</th>\n",
       "      <td>2023-05-08T02:00:00.000000000Z</td>\n",
       "      <td>2092</td>\n",
       "      <td>1.10309</td>\n",
       "      <td>1.10365</td>\n",
       "      <td>1.10274</td>\n",
       "      <td>1.10313</td>\n",
       "      <td>1.10317</td>\n",
       "      <td>1.10372</td>\n",
       "      <td>1.10282</td>\n",
       "      <td>1.10320</td>\n",
       "      <td>1.10325</td>\n",
       "      <td>1.10380</td>\n",
       "      <td>1.10289</td>\n",
       "      <td>1.10327</td>\n",
       "    </tr>\n",
       "    <tr>\n",
       "      <th>5</th>\n",
       "      <td>2023-05-08T03:00:00.000000000Z</td>\n",
       "      <td>1668</td>\n",
       "      <td>1.10312</td>\n",
       "      <td>1.10393</td>\n",
       "      <td>1.10306</td>\n",
       "      <td>1.10384</td>\n",
       "      <td>1.10320</td>\n",
       "      <td>1.10400</td>\n",
       "      <td>1.10314</td>\n",
       "      <td>1.10392</td>\n",
       "      <td>1.10328</td>\n",
       "      <td>1.10407</td>\n",
       "      <td>1.10320</td>\n",
       "      <td>1.10399</td>\n",
       "    </tr>\n",
       "    <tr>\n",
       "      <th>6</th>\n",
       "      <td>2023-05-08T04:00:00.000000000Z</td>\n",
       "      <td>2030</td>\n",
       "      <td>1.10384</td>\n",
       "      <td>1.10438</td>\n",
       "      <td>1.10379</td>\n",
       "      <td>1.10428</td>\n",
       "      <td>1.10391</td>\n",
       "      <td>1.10445</td>\n",
       "      <td>1.10386</td>\n",
       "      <td>1.10436</td>\n",
       "      <td>1.10398</td>\n",
       "      <td>1.10452</td>\n",
       "      <td>1.10393</td>\n",
       "      <td>1.10444</td>\n",
       "    </tr>\n",
       "    <tr>\n",
       "      <th>7</th>\n",
       "      <td>2023-05-08T05:00:00.000000000Z</td>\n",
       "      <td>2083</td>\n",
       "      <td>1.10429</td>\n",
       "      <td>1.10437</td>\n",
       "      <td>1.10359</td>\n",
       "      <td>1.10381</td>\n",
       "      <td>1.10436</td>\n",
       "      <td>1.10445</td>\n",
       "      <td>1.10368</td>\n",
       "      <td>1.10388</td>\n",
       "      <td>1.10444</td>\n",
       "      <td>1.10453</td>\n",
       "      <td>1.10375</td>\n",
       "      <td>1.10396</td>\n",
       "    </tr>\n",
       "    <tr>\n",
       "      <th>8</th>\n",
       "      <td>2023-05-08T06:00:00.000000000Z</td>\n",
       "      <td>2622</td>\n",
       "      <td>1.10383</td>\n",
       "      <td>1.10500</td>\n",
       "      <td>1.10367</td>\n",
       "      <td>1.10477</td>\n",
       "      <td>1.10390</td>\n",
       "      <td>1.10506</td>\n",
       "      <td>1.10374</td>\n",
       "      <td>1.10484</td>\n",
       "      <td>1.10398</td>\n",
       "      <td>1.10513</td>\n",
       "      <td>1.10382</td>\n",
       "      <td>1.10490</td>\n",
       "    </tr>\n",
       "  </tbody>\n",
       "</table>\n",
       "</div>"
      ],
      "text/plain": [
       "                             time  volume    bid_o    bid_h    bid_l    bid_c   \n",
       "0  2023-05-07T22:00:00.000000000Z     980  1.10182  1.10217  1.10136  1.10157  \\\n",
       "1  2023-05-07T23:00:00.000000000Z    1108  1.10156  1.10211  1.10134  1.10177   \n",
       "2  2023-05-08T00:00:00.000000000Z    2263  1.10178  1.10247  1.10161  1.10236   \n",
       "3  2023-05-08T01:00:00.000000000Z    2503  1.10236  1.10314  1.10180  1.10306   \n",
       "4  2023-05-08T02:00:00.000000000Z    2092  1.10309  1.10365  1.10274  1.10313   \n",
       "5  2023-05-08T03:00:00.000000000Z    1668  1.10312  1.10393  1.10306  1.10384   \n",
       "6  2023-05-08T04:00:00.000000000Z    2030  1.10384  1.10438  1.10379  1.10428   \n",
       "7  2023-05-08T05:00:00.000000000Z    2083  1.10429  1.10437  1.10359  1.10381   \n",
       "8  2023-05-08T06:00:00.000000000Z    2622  1.10383  1.10500  1.10367  1.10477   \n",
       "\n",
       "     mid_o    mid_h    mid_l    mid_c    ask_o    ask_h    ask_l    ask_c  \n",
       "0  1.10220  1.10230  1.10144  1.10166  1.10259  1.10259  1.10153  1.10174  \n",
       "1  1.10164  1.10219  1.10142  1.10184  1.10172  1.10227  1.10150  1.10191  \n",
       "2  1.10185  1.10254  1.10168  1.10244  1.10192  1.10262  1.10175  1.10251  \n",
       "3  1.10244  1.10322  1.10187  1.10314  1.10253  1.10330  1.10194  1.10322  \n",
       "4  1.10317  1.10372  1.10282  1.10320  1.10325  1.10380  1.10289  1.10327  \n",
       "5  1.10320  1.10400  1.10314  1.10392  1.10328  1.10407  1.10320  1.10399  \n",
       "6  1.10391  1.10445  1.10386  1.10436  1.10398  1.10452  1.10393  1.10444  \n",
       "7  1.10436  1.10445  1.10368  1.10388  1.10444  1.10453  1.10375  1.10396  \n",
       "8  1.10390  1.10506  1.10374  1.10484  1.10398  1.10513  1.10382  1.10490  "
      ]
     },
     "execution_count": 41,
     "metadata": {},
     "output_type": "execute_result"
    }
   ],
   "source": [
    "pd.read_pickle('our_data.pkl')"
   ]
  },
  {
   "cell_type": "code",
   "execution_count": null,
   "metadata": {},
   "outputs": [],
   "source": []
  },
  {
   "cell_type": "code",
   "execution_count": null,
   "metadata": {},
   "outputs": [],
   "source": []
  },
  {
   "cell_type": "code",
   "execution_count": null,
   "metadata": {},
   "outputs": [],
   "source": []
  },
  {
   "cell_type": "code",
   "execution_count": null,
   "metadata": {},
   "outputs": [],
   "source": []
  }
 ],
 "metadata": {
  "kernelspec": {
   "display_name": "venv",
   "language": "python",
   "name": "python3"
  },
  "language_info": {
   "codemirror_mode": {
    "name": "ipython",
    "version": 3
   },
   "file_extension": ".py",
   "mimetype": "text/x-python",
   "name": "python",
   "nbconvert_exporter": "python",
   "pygments_lexer": "ipython3",
   "version": "3.10.6"
  },
  "orig_nbformat": 4
 },
 "nbformat": 4,
 "nbformat_minor": 2
}
